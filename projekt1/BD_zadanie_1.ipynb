{
 "cells": [
  {
   "cell_type": "markdown",
   "metadata": {},
   "source": [
    "Praca Domowa nr 1, BD czwartek 8:30\n",
    "\n",
    "Kacper Staroń\n",
    "\n",
    "298842\n",
    "\n",
    "Potwierdzam samodzielność przesyłanej pracy oraz niekorzystanie przeze mnie z niedozwolonych źródeł."
   ]
  },
  {
   "cell_type": "code",
   "execution_count": 1,
   "metadata": {},
   "outputs": [],
   "source": [
    "import pyodbc\n",
    "from datetime import datetime"
   ]
  },
  {
   "cell_type": "code",
   "execution_count": 2,
   "metadata": {},
   "outputs": [
    {
     "name": "stdout",
     "output_type": "stream",
     "text": [
      "Nazwa serwera:LAPTOP-KDC4KRAQ\n",
      "Nazwa bazy danych:Northwind\n",
      "login:sa\n",
      "hasło:sastudent\n"
     ]
    }
   ],
   "source": [
    "server = input('Nazwa serwera:')\n",
    "database = input('Nazwa bazy danych:')\n",
    "user = input('login:')\n",
    "password = input('hasło:')"
   ]
  },
  {
   "cell_type": "code",
   "execution_count": 3,
   "metadata": {},
   "outputs": [],
   "source": [
    "connection_string = 'Driver={{SQL Server}};Server={0};Database={1};Uid={2};Pwd={3}'.format(server, database, user, password) \n",
    "connection = pyodbc.connect(connection_string, autocommit = False)\n",
    "cursor = connection.cursor()"
   ]
  },
  {
   "cell_type": "markdown",
   "metadata": {},
   "source": [
    "a) w transakcji pierwszej usuwa istniejące rekordy z w/w tabeli badań wykonanych w ubiegłym roku"
   ]
  },
  {
   "cell_type": "code",
   "execution_count": 4,
   "metadata": {},
   "outputs": [],
   "source": [
    "command = 'DELETE FROM staronk WHERE data_badania < ?'\n",
    "parameters = ['20200101']\n",
    "\n",
    "cursor.execute(command, parameters)\n",
    "\n",
    "connection.commit()"
   ]
  },
  {
   "cell_type": "markdown",
   "metadata": {},
   "source": [
    "b) w transakcji drugiej wstawia trzy rekordy w w/w tabeli na podstawie danych wprowadzonych do przez użytkownika"
   ]
  },
  {
   "cell_type": "code",
   "execution_count": 5,
   "metadata": {},
   "outputs": [
    {
     "name": "stdout",
     "output_type": "stream",
     "text": [
      "Imię:Maciej\n",
      "Nazwisko:Kot\n",
      "Numer telefonu:991199119\n",
      "Data badania(yyyy-mm-dd):2020-10-3\n",
      "Wynik:1\n",
      "Imię:Klemens\n",
      "Nazwisko:Murańka\n",
      "Numer telefonu:123444555\n",
      "Data badania(yyyy-mm-dd):2018-3-3\n",
      "Wynik:0\n",
      "Imię:Kamil\n",
      "Nazwisko:Stoch\n",
      "Numer telefonu:987654333\n",
      "Data badania(yyyy-mm-dd):2020-1-5\n",
      "Wynik:0\n"
     ]
    }
   ],
   "source": [
    "#szukamy ręcznie id dla nowych wprowadzanych rekordów\n",
    "cursor.execute('select max(badanie_id) from staronk')\n",
    "new_id = cursor.fetchone()[0]\n",
    "\n",
    "\n",
    "command = 'insert into staronk(badanie_id, imie, nazwisko, nr_telefonu, data_badania, wynik) output INSERTED.badanie_id values (?, ?, ?, ?, ?, ?)'\n",
    "for i in range(3):\n",
    "    new_id += 1\n",
    "    \n",
    "    imie = input('Imię:')\n",
    "    nazwisko = input('Nazwisko:')\n",
    "    nr_telefonu = input('Numer telefonu:')\n",
    "    data_badania = input('Data badania(yyyy-mm-dd):')\n",
    "    wynik = input('Wynik:')\n",
    "\n",
    "    cursor.execute(command, [new_id, imie, nazwisko, nr_telefonu, data_badania, wynik])\n",
    "\n",
    "connection.commit()"
   ]
  },
  {
   "cell_type": "markdown",
   "metadata": {},
   "source": [
    "c) w transakcji trzeciej wykonuje dwie operacje:"
   ]
  },
  {
   "cell_type": "markdown",
   "metadata": {},
   "source": [
    "1. modyfikuje rekordy poprzez zmianę wyniku na pozytywny ostatniego względem daty badania"
   ]
  },
  {
   "cell_type": "code",
   "execution_count": 6,
   "metadata": {},
   "outputs": [
    {
     "data": {
      "text/plain": [
       "<pyodbc.Cursor at 0x1e6de618db0>"
      ]
     },
     "execution_count": 6,
     "metadata": {},
     "output_type": "execute_result"
    }
   ],
   "source": [
    "command = 'update staronk set wynik = 1 where data_badania = (select max(data_badania) from staronk)'\n",
    "cursor.execute(command)\n"
   ]
  },
  {
   "cell_type": "markdown",
   "metadata": {},
   "source": [
    "2. dopisuje badania dla tego samej osoby (imię, nazwisko, telefon) z datą dzisiejszą i wynikiem negatywnym"
   ]
  },
  {
   "cell_type": "code",
   "execution_count": 7,
   "metadata": {},
   "outputs": [],
   "source": [
    "new_id += 1\n",
    "command = 'select * from staronk where data_badania = (select max(data_badania) from staronk)'\n",
    "cursor.execute(command)\n",
    "rekord = cursor.fetchone()\n",
    "\n",
    "imie = rekord[1]\n",
    "nazwisko = rekord[2]\n",
    "nr_telefonu = rekord[3]\n",
    "data_badania = str(datetime.date(datetime.now()))\n",
    "wynik = 0\n",
    "\n",
    "command = 'insert into staronk(badanie_id, imie, nazwisko, nr_telefonu, data_badania, wynik) output INSERTED.badanie_id values (?, ?, ?, ?, ?, ?)'\n",
    "cursor.execute(command, new_id, imie, nazwisko, nr_telefonu, data_badania, wynik)\n",
    "\n",
    "connection.commit()"
   ]
  },
  {
   "cell_type": "markdown",
   "metadata": {},
   "source": [
    "d) usuwa badania z datą_badania późniejszą niż data wprowadzona przez użytkownika"
   ]
  },
  {
   "cell_type": "code",
   "execution_count": 8,
   "metadata": {},
   "outputs": [
    {
     "name": "stdout",
     "output_type": "stream",
     "text": [
      "Podaj datę(yyyy-mm-dd):2020-3-1\n"
     ]
    }
   ],
   "source": [
    "command = 'delete staronk where data_badania > ?'\n",
    "parameters = input('Podaj datę(yyyy-mm-dd):')\n",
    "cursor.execute(command, parameters)\n",
    "\n",
    "connection.commit()"
   ]
  },
  {
   "cell_type": "markdown",
   "metadata": {},
   "source": [
    "e) wypisuje wszystkie rekordy w tabeli"
   ]
  },
  {
   "cell_type": "code",
   "execution_count": 9,
   "metadata": {},
   "outputs": [
    {
     "name": "stdout",
     "output_type": "stream",
     "text": [
      "(4, 'Klemens', 'Murańka', '123444555', '2018-03-03', False)\n",
      "(5, 'Kamil', 'Stoch', '987654333', '2020-01-05', False)\n"
     ]
    }
   ],
   "source": [
    "command = 'select * from staronk'\n",
    "cursor.execute(command)\n",
    "for row in cursor:\n",
    "    print(row)\n",
    "\n",
    "connection.commit()"
   ]
  },
  {
   "cell_type": "code",
   "execution_count": 10,
   "metadata": {},
   "outputs": [],
   "source": [
    "connection.close()"
   ]
  },
  {
   "cell_type": "code",
   "execution_count": null,
   "metadata": {},
   "outputs": [],
   "source": []
  }
 ],
 "metadata": {
  "kernelspec": {
   "display_name": "Python 3",
   "language": "python",
   "name": "python3"
  },
  "language_info": {
   "codemirror_mode": {
    "name": "ipython",
    "version": 3
   },
   "file_extension": ".py",
   "mimetype": "text/x-python",
   "name": "python",
   "nbconvert_exporter": "python",
   "pygments_lexer": "ipython3",
   "version": "3.8.2"
  }
 },
 "nbformat": 4,
 "nbformat_minor": 4
}
